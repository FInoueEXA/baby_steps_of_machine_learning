{
 "cells": [
  {
   "cell_type": "markdown",
   "metadata": {},
   "source": [
    "# Baby Steps of Machine Learning (Answer)\n",
    "\n",
    "機械学習モデルを作成する基本的な手順を、ここで確認し行きます。今回は手書き文字の認識を行うモデルの作成を通じて、この手順の解説を行っていきます。\n",
    "\n",
    "* [データロード](#Load-the-Data)\n",
    "* [データの前処理](#Data-Preprocessing)\n",
    "* [モデル構築](#Create-the-Model)\n",
    "* [学習](#Train-the-Model)\n",
    "* [評価](#Evaluate-the-Model)\n",
    "* [保存](#Store-the-Model)\n",
    "\n",
    "手順を進めていくにあたっては、[scikit-learn](http://scikit-learn.org/)という機械学習モデルを作るためのライブラリを使います。\n"
   ]
  },
  {
   "cell_type": "code",
   "execution_count": 2,
   "metadata": {
    "collapsed": true
   },
   "outputs": [],
   "source": [
    "# enable showing matplotlib image inline\n",
    "%matplotlib inline"
   ]
  },
  {
   "cell_type": "markdown",
   "metadata": {},
   "source": [
    "## Load the Data\n",
    "\n",
    "機械学習は、データからルールを学習する技術です。\n",
    "\n",
    "![machine_learning.PNG](./pictures/machine_learning.PNG)\n",
    "\n",
    "そのため、まず第一にデータを用意する必要があります。幸い、scikit-learnには、最初から手書きの数字を認識するための学習データ(手書き数字の画像データと、その画像の数字が0～9の何れであるかという答えのセット)が搭載されているため、それを利用します。"
   ]
  },
  {
   "cell_type": "code",
   "execution_count": 3,
   "metadata": {
    "collapsed": false
   },
   "outputs": [
    {
     "name": "stdout",
     "output_type": "stream",
     "text": [
      "(1797, 64)\n",
      "(1797,)\n"
     ]
    }
   ],
   "source": [
    "from sklearn import datasets\n",
    "\n",
    "\n",
    "def load_data():\n",
    "    dataset = datasets.load_digits()\n",
    "    return dataset\n",
    "\n",
    "digits = load_data()\n",
    "print(digits.data.shape)\n",
    "print(digits.target.shape)"
   ]
  },
  {
   "cell_type": "markdown",
   "metadata": {},
   "source": [
    "`digits.data.shape`で、データの行数、列数を表示しています。`1797`は行数、`64`は列数になりますです。これは、1797件の、64の特徴を持つデータであるということを意味しています。手書き文字の画像データは8×8のサイズであり、従ってその中のピクセルの数は64となるため特徴の数が64となっています(なお、RGB画像の場合はR、G、Bそれそれ64個あるため3倍になります)。  \n",
    "これに対し、`digits.target.shape`はそのデータが実際にどの数字なのかの情報になります。つまり、教師データということです。  \n",
    "実際に、データのうちの一つを表示してみます。"
   ]
  },
  {
   "cell_type": "code",
   "execution_count": 4,
   "metadata": {
    "collapsed": false
   },
   "outputs": [
    {
     "data": {
      "image/png": "[encoded data removed]",
      "text/plain": [
       "<matplotlib.figure.Figure at 0x8acf2b0>"
      ]
     },
     "metadata": {},
     "output_type": "display_data"
    },
    {
     "name": "stdout",
     "output_type": "stream",
     "text": [
      "0\n"
     ]
    }
   ],
   "source": [
    "import numpy as np\n",
    "import matplotlib.pyplot as plt    \n",
    "\n",
    "\n",
    "def show_image(data):\n",
    "    plt.figure(1, figsize=(3, 3))\n",
    "    size = int(np.sqrt(len(data)))\n",
    "    plt.imshow(np.reshape(data, (size, size)), cmap=plt.cm.gray_r, interpolation='nearest')\n",
    "    plt.show()\n",
    "\n",
    "show_image(digits.data[0])\n",
    "print(digits.target[0])"
   ]
  },
  {
   "cell_type": "markdown",
   "metadata": {},
   "source": [
    "`digits.data[0]`には\"0\"の画像データが収められており、`digits.target[0]`にはその答えである`0`が収められているのがわかるかと思います。"
   ]
  },
  {
   "cell_type": "markdown",
   "metadata": {},
   "source": [
    "## Data Preprocessing\n",
    "\n",
    "集めたデータがそのまま使える、ということは稀です。\n",
    "精度の高いモデルを作るため、学習のスピードを上げるため、データをモデルにとって適切な形に加工する処理が欠かせません(生の食材を、調理するようなイメージです)。\n",
    "多くの場合、この前処理が最終的な精度に大きなインパクトを与えます。今回は前処理の一つの手法である、正規化を実行してみます。\n",
    "\n",
    "正規化とは、各特徴について平均を0、標準偏差を1にそろえることで学習の速度を上げるための処理です。\n",
    "特徴Aは値が0.1~0.5、特徴Bは100~1000といった状況で、実は特徴Aの値のほうが判断には重要、となるとモデルにとってはその影響を見極めるのがとても困難になります。そのため、値の範囲をそろえるというのが正規化の役割です。  "
   ]
  },
  {
   "cell_type": "code",
   "execution_count": 5,
   "metadata": {
    "collapsed": false
   },
   "outputs": [
    {
     "name": "stdout",
     "output_type": "stream",
     "text": [
      "(64,)\n",
      "(64,)\n"
     ]
    }
   ],
   "source": [
    "def normalization(x):\n",
    "    means = np.mean(x, axis=0)\n",
    "    stds = np.std(x, axis=0)\n",
    "    stds[stds < 1.0e-6] = np.max(x) - np.min(x)\n",
    "    means[stds < 1.0e-6] = np.min(x)\n",
    "    return means, stds\n",
    "\n",
    "means, stds = normalization(digits.data)\n",
    "print(means.shape)\n",
    "print(stds.shape)\n",
    "\n",
    "normalized_data = (digits.data - means) / stds  # normalization"
   ]
  },
  {
   "cell_type": "markdown",
   "metadata": {},
   "source": [
    "## Create the Model\n",
    "\n",
    "今回扱うのは画像の分類問題になります。分類に使えるモデルは沢山ありますが、今回は最もシンプルな線形分類機であるSGDClassifierを利用します。"
   ]
  },
  {
   "cell_type": "code",
   "execution_count": 6,
   "metadata": {
    "collapsed": false
   },
   "outputs": [],
   "source": [
    "def make_model():\n",
    "    from sklearn.linear_model import SGDClassifier    \n",
    "    clf = SGDClassifier(alpha=0.0001, fit_intercept=True)\n",
    "    return clf\n",
    "    \n",
    "classifier = make_model()"
   ]
  },
  {
   "cell_type": "markdown",
   "metadata": {},
   "source": [
    "本稿では各モデルの詳しい説明が目的ではないので、ここでは「分類に使える何かのモデル(=数式)を作った」というぐらいの感覚でかまいません。scikit-learnでは、上記のように様々なモデルを簡単に作ることができます。"
   ]
  },
  {
   "cell_type": "markdown",
   "metadata": {},
   "source": [
    "## Train the Model"
   ]
  },
  {
   "cell_type": "markdown",
   "metadata": {},
   "source": [
    "ここで、データとモデルがそろったため、学習させてみます。"
   ]
  },
  {
   "cell_type": "code",
   "execution_count": 7,
   "metadata": {
    "collapsed": false
   },
   "outputs": [
    {
     "name": "stdout",
     "output_type": "stream",
     "text": [
      "dataset is splited to train/test = 1797 -> 1257, 540\n"
     ]
    }
   ],
   "source": [
    "from sklearn.model_selection import train_test_split\n",
    "\n",
    "# use 30% of data to test the model\n",
    "test_size = 0.3\n",
    "train_d, test_d, train_t, test_t = train_test_split(normalized_data, digits.target, test_size=test_size, random_state=0)\n",
    "print(\"dataset is splited to train/test = {0} -> {1}, {2}\".format(\n",
    "        len(normalized_data), len(train_d), len(test_d))\n",
    "     )"
   ]
  },
  {
   "cell_type": "code",
   "execution_count": 8,
   "metadata": {
    "collapsed": false
   },
   "outputs": [
    {
     "data": {
      "text/plain": [
       "SGDClassifier(alpha=0.0001, average=False, class_weight=None, epsilon=0.1,\n",
       "       eta0=0.0, fit_intercept=True, l1_ratio=0.15,\n",
       "       learning_rate='optimal', loss='hinge', n_iter=5, n_jobs=1,\n",
       "       penalty='l2', power_t=0.5, random_state=None, shuffle=True,\n",
       "       verbose=0, warm_start=False)"
      ]
     },
     "execution_count": 8,
     "metadata": {},
     "output_type": "execute_result"
    }
   ],
   "source": [
    "# training the model\n",
    "classifier.fit(train_d, train_t)"
   ]
  },
  {
   "cell_type": "code",
   "execution_count": 9,
   "metadata": {
    "collapsed": false
   },
   "outputs": [
    {
     "data": {
      "image/png": "[encoded data removed]",
      "text/plain": [
       "<matplotlib.figure.Figure at 0x8acf1f0>"
      ]
     },
     "metadata": {},
     "output_type": "display_data"
    }
   ],
   "source": [
    "from sklearn.model_selection import learning_curve\n",
    "\n",
    "\n",
    "def plot_learning_curve(model_func, dataset):\n",
    "    sizes = [i / 10 for i in range(1, 11)]\n",
    "    train_sizes, train_scores, valid_scores = learning_curve(model_func(), dataset.data, dataset.target, train_sizes=sizes, cv=5)\n",
    "    \n",
    "    take_means = lambda s: np.mean(s, axis=1)\n",
    "    plt.plot(sizes, take_means(train_scores), label=\"training\")\n",
    "    plt.plot(sizes, take_means(valid_scores), label=\"test\")\n",
    "    plt.ylim(0, 1.1)\n",
    "    plt.title(\"learning curve\")\n",
    "    plt.legend(loc=\"lower right\")\n",
    "    plt.show()\n",
    "\n",
    "plot_learning_curve(make_model, digits)"
   ]
  },
  {
   "cell_type": "markdown",
   "metadata": {},
   "source": [
    "## Evaluate the Model"
   ]
  },
  {
   "cell_type": "code",
   "execution_count": 10,
   "metadata": {
    "collapsed": false
   },
   "outputs": [
    {
     "name": "stdout",
     "output_type": "stream",
     "text": [
      "0.942592592593\n"
     ]
    }
   ],
   "source": [
    "from sklearn import metrics\n",
    "\n",
    "\n",
    "predicted = classifier.predict(test_d)\n",
    "score = metrics.accuracy_score(test_t, predicted)\n",
    "print(score)"
   ]
  },
  {
   "cell_type": "code",
   "execution_count": 11,
   "metadata": {
    "collapsed": false
   },
   "outputs": [
    {
     "name": "stdout",
     "output_type": "stream",
     "text": [
      "             precision    recall  f1-score   support\n",
      "\n",
      "         #0       1.00      0.98      0.99        45\n",
      "         #1       0.84      0.92      0.88        52\n",
      "         #2       0.96      0.89      0.92        53\n",
      "         #3       0.94      0.93      0.93        54\n",
      "         #4       0.92      1.00      0.96        48\n",
      "         #5       0.96      0.96      0.96        57\n",
      "         #6       0.98      0.98      0.98        60\n",
      "         #7       0.94      0.92      0.93        53\n",
      "         #8       0.95      0.89      0.92        61\n",
      "         #9       0.93      0.96      0.95        57\n",
      "\n",
      "avg / total       0.94      0.94      0.94       540\n",
      "\n"
     ]
    }
   ],
   "source": [
    "from sklearn.metrics import classification_report\n",
    "\n",
    "\n",
    "target_names = [\"#{0}\".format(i) for i in range(0, 10)]\n",
    "print(classification_report(test_t, predicted, target_names=target_names))"
   ]
  },
  {
   "cell_type": "markdown",
   "metadata": {},
   "source": [
    "## Store the Model"
   ]
  },
  {
   "cell_type": "code",
   "execution_count": 13,
   "metadata": {
    "collapsed": false
   },
   "outputs": [
    {
     "data": {
      "text/plain": [
       "['./machine.pkl']"
      ]
     },
     "execution_count": 13,
     "metadata": {},
     "output_type": "execute_result"
    }
   ],
   "source": [
    "from sklearn.externals import joblib\n",
    "\n",
    "joblib.dump(classifier, \"./machine.pkl\") "
   ]
  },
  {
   "cell_type": "code",
   "execution_count": null,
   "metadata": {
    "collapsed": true
   },
   "outputs": [],
   "source": []
  }
 ],
 "metadata": {
  "anaconda-cloud": {},
  "kernelspec": {
   "display_name": "Python [default]",
   "language": "python",
   "name": "python3"
  },
  "language_info": {
   "codemirror_mode": {
    "name": "ipython",
    "version": 3
   },
   "file_extension": ".py",
   "mimetype": "text/x-python",
   "name": "python",
   "nbconvert_exporter": "python",
   "pygments_lexer": "ipython3",
   "version": "3.5.2"
  }
 },
 "nbformat": 4,
 "nbformat_minor": 0
}
